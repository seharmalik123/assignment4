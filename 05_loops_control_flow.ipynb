{
  "nbformat": 4,
  "nbformat_minor": 0,
  "metadata": {
    "colab": {
      "provenance": []
    },
    "kernelspec": {
      "name": "python3",
      "display_name": "Python 3"
    },
    "language_info": {
      "name": "python"
    }
  },
  "cells": [
    {
      "cell_type": "code",
      "execution_count": null,
      "metadata": {
        "id": "tM2p0alvUPHU"
      },
      "outputs": [],
      "source": []
    },
    {
      "cell_type": "markdown",
      "source": [
        "***00_guess_my_number***"
      ],
      "metadata": {
        "id": "p8wy81TYURsg"
      }
    },
    {
      "cell_type": "code",
      "source": [
        "import random\n",
        "\n",
        "print(\"00_guess_my_number\")\n",
        "\n",
        "def main():\n",
        "  secret_number = random.randint(1,100)\n",
        "  print(\"I'm thinking of a number between 1 and 100.\")\n",
        "\n",
        "  guess = int(input(\"Enter Your guess: \"))\n",
        "\n",
        "  while guess != secret_number:\n",
        "    if guess < secret_number:\n",
        "      print(\"Your guess is too low. \")\n",
        "    else:\n",
        "      print(\"Your guess is too high. \")\n",
        "    guess = int(input(\"Enter Your guess: \"))\n",
        "\n",
        "  print(f\"Congratulations! The Number was {secret_number}\")\n",
        "\n",
        "if __name__ == \"__main__\":\n",
        "  main()17\n",
        "\n",
        "\n"
      ],
      "metadata": {
        "colab": {
          "base_uri": "https://localhost:8080/"
        },
        "id": "7LKpqahdUccY",
        "outputId": "240dd226-f6db-4b08-eff0-c49a790ef27d"
      },
      "execution_count": null,
      "outputs": [
        {
          "output_type": "stream",
          "name": "stdout",
          "text": [
            "00_guess_my_number\n",
            "I'm thinking of a number between 1 and 100.\n",
            "Enter Your guess: 56\n",
            "Your guess is too high. \n",
            "Enter Your guess: 32\n",
            "Your guess is too high. \n",
            "Enter Your guess: 10\n",
            "Your guess is too low. \n",
            "Enter Your guess: 71\n",
            "Your guess is too high. \n",
            "Enter Your guess: 65\n",
            "Your guess is too high. \n",
            "Enter Your guess: 20\n",
            "Your guess is too high. \n",
            "Enter Your guess: 5\n",
            "Your guess is too low. \n",
            "Enter Your guess: 12\n",
            "Your guess is too high. \n",
            "Enter Your guess: 8\n",
            "Your guess is too low. \n",
            "Enter Your guess: 9\n",
            "Your guess is too low. \n",
            "Enter Your guess: 10\n",
            "Your guess is too low. \n",
            "Enter Your guess: 11\n",
            "Congratulations! The Number was 11\n"
          ]
        }
      ]
    },
    {
      "cell_type": "markdown",
      "source": [
        "***01_fibonacci***"
      ],
      "metadata": {
        "id": "sZYX4VEvasKH"
      }
    },
    {
      "cell_type": "code",
      "source": [
        "print(\"01_fibonacci\")\n",
        "\n",
        "max_value = 1000\n",
        "\n",
        "def main():\n",
        "  a,b = 0,1\n",
        "  print(a,b, end = \" \")\n",
        "\n",
        "  while True:\n",
        "    c = a + b\n",
        "    if c > max_value:\n",
        "      break\n",
        "    print(c, end = \" \")\n",
        "    a,b = b,c\n",
        "\n",
        "if __name__ == \"__main__\":\n",
        "  main()"
      ],
      "metadata": {
        "colab": {
          "base_uri": "https://localhost:8080/"
        },
        "id": "crOGhqgAauZQ",
        "outputId": "c8df2943-5bc2-4a1a-b21b-3f9a9f4a40d5"
      },
      "execution_count": null,
      "outputs": [
        {
          "output_type": "stream",
          "name": "stdout",
          "text": [
            "01_fibonacci\n",
            "0 1 1 2 3 5 8 13 21 34 55 89 144 233 377 610 987 "
          ]
        }
      ]
    },
    {
      "cell_type": "markdown",
      "source": [
        "\n",
        "***02_print_even***"
      ],
      "metadata": {
        "id": "FFLA_qbsbTc8"
      }
    },
    {
      "cell_type": "code",
      "source": [
        "print(\"02_print_even\")\n",
        "\n",
        "def main():\n",
        "  for i in range(20):\n",
        "    print(i*2)\n",
        "\n",
        "if __name__ == \"__main__\":\n",
        "  main()\n"
      ],
      "metadata": {
        "colab": {
          "base_uri": "https://localhost:8080/"
        },
        "id": "ZA3QWIIWbVYD",
        "outputId": "7d047ddf-4e88-4851-9b9a-d1658a81aadd"
      },
      "execution_count": null,
      "outputs": [
        {
          "output_type": "stream",
          "name": "stdout",
          "text": [
            "02_print_even\n",
            "0\n",
            "2\n",
            "4\n",
            "6\n",
            "8\n",
            "10\n",
            "12\n",
            "14\n",
            "16\n",
            "18\n",
            "20\n",
            "22\n",
            "24\n",
            "26\n",
            "28\n",
            "30\n",
            "32\n",
            "34\n",
            "36\n",
            "38\n"
          ]
        }
      ]
    },
    {
      "cell_type": "markdown",
      "source": [
        "***03_wholesome_machine***"
      ],
      "metadata": {
        "id": "L3wv8LMscBmT"
      }
    },
    {
      "cell_type": "code",
      "source": [
        "print(\"03_wholesome_machine\")\n",
        "\n",
        "correct_affermation = \"I am capable of doing anything. I put my mind too.\"\n",
        "\n",
        "def main():\n",
        "  print(\"Welcome to the Wholesome Machine\")\n",
        "  while True:\n",
        "    user_input = input(\"Please type the following affermation: \" +\n",
        "    correct_affermation)\n",
        "    if user_input == correct_affermation:\n",
        "      print(\"That\\'s Correct!\")\n",
        "      break\n",
        "    else:\n",
        "      print(\"Hmmm That was not the affermation. Please Try Again!!\")\n",
        "\n",
        "if __name__ == \"__main__\":\n",
        "  main()"
      ],
      "metadata": {
        "colab": {
          "base_uri": "https://localhost:8080/"
        },
        "id": "2WFdfHjYcDs6",
        "outputId": "acfed433-40db-4e64-e5ad-1ad33034ca31"
      },
      "execution_count": null,
      "outputs": [
        {
          "output_type": "stream",
          "name": "stdout",
          "text": [
            "03_wholesome_machine\n",
            "Welcome to the Wholesome Machine\n",
            "Please type the following affermation: I am capable of doing anything. I put my mind too.I am capable of doing anything. I put my mind too\n",
            "Hmmm That was not the affermation. Please Try Again!!\n",
            "Please type the following affermation: I am capable of doing anything. I put my mind too.I am capable of doing anything. I put my mind too\n",
            "Hmmm That was not the affermation. Please Try Again!!\n"
          ]
        }
      ]
    },
    {
      "cell_type": "markdown",
      "source": [
        "***04_liftoff***"
      ],
      "metadata": {
        "id": "Ictcucezebc7"
      }
    },
    {
      "cell_type": "code",
      "source": [
        "print(\"04_liftoff\")\n",
        "\n",
        "def main():\n",
        "  for i in range(10,0,-1):\n",
        "    print(i,end = \" \")\n",
        "  print(\"liftoff\")\n",
        "\n",
        "if __name__ ==\"__main__\":\n",
        "  main()"
      ],
      "metadata": {
        "id": "MrDNlCYBeeKx",
        "colab": {
          "base_uri": "https://localhost:8080/"
        },
        "outputId": "0d413df4-4c0d-44e7-b41b-e995dd6bb802"
      },
      "execution_count": 3,
      "outputs": [
        {
          "output_type": "stream",
          "name": "stdout",
          "text": [
            "04_liftoff\n",
            "10 9 8 7 6 5 4 3 2 1 liftoff\n"
          ]
        }
      ]
    },
    {
      "cell_type": "markdown",
      "source": [
        "***05_double_it***"
      ],
      "metadata": {
        "id": "SwktkW0nEEgj"
      }
    },
    {
      "cell_type": "code",
      "source": [
        "print(\"05_double_it\")\n",
        "\n",
        "def main():\n",
        "  user_value = int(input(\"Enter a number: \"))\n",
        "  while user_value < 100:\n",
        "    user_value = user_value * 2\n",
        "    print(user_value)\n",
        "\n",
        "if __name__ == \"__main__\":\n",
        "  main()"
      ],
      "metadata": {
        "id": "Pr6KiwAeEG31",
        "colab": {
          "base_uri": "https://localhost:8080/"
        },
        "outputId": "3c03a7f0-e3b1-49d2-8009-fcaeab301a4f"
      },
      "execution_count": 4,
      "outputs": [
        {
          "output_type": "stream",
          "name": "stdout",
          "text": [
            "05_double_it\n",
            "Enter a number: 5\n",
            "10\n",
            "20\n",
            "40\n",
            "80\n",
            "160\n"
          ]
        }
      ]
    }
  ]
}