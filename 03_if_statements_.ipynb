{
  "nbformat": 4,
  "nbformat_minor": 0,
  "metadata": {
    "colab": {
      "provenance": []
    },
    "kernelspec": {
      "name": "python3",
      "display_name": "Python 3"
    },
    "language_info": {
      "name": "python"
    }
  },
  "cells": [
    {
      "cell_type": "markdown",
      "source": [
        "***01_print_events***"
      ],
      "metadata": {
        "id": "OoU3Qs5za99G"
      }
    },
    {
      "cell_type": "code",
      "source": [
        "print(\"01_print_events\")\n",
        "\n",
        "def even():\n",
        "  for i in range(20):\n",
        "    even = i*2\n",
        "    print(even)\n",
        "# print(\"Here is 20 even numbers are: \", i * 2)\n",
        "\n",
        "if __name__ == \"__main__\":\n",
        "  even()\n",
        "\n"
      ],
      "metadata": {
        "colab": {
          "base_uri": "https://localhost:8080/"
        },
        "id": "lJincg75bBLf",
        "outputId": "38a4bffd-6ae3-4cbf-fa9e-757968fb8a5d"
      },
      "execution_count": 1,
      "outputs": [
        {
          "output_type": "stream",
          "name": "stdout",
          "text": [
            "01_print_events\n",
            "0\n",
            "2\n",
            "4\n",
            "6\n",
            "8\n",
            "10\n",
            "12\n",
            "14\n",
            "16\n",
            "18\n",
            "20\n",
            "22\n",
            "24\n",
            "26\n",
            "28\n",
            "30\n",
            "32\n",
            "34\n",
            "36\n",
            "38\n"
          ]
        }
      ]
    },
    {
      "cell_type": "markdown",
      "source": [
        "***02_international_voting_age***"
      ],
      "metadata": {
        "id": "oGbtTiYUcQx1"
      }
    },
    {
      "cell_type": "code",
      "source": [
        "print(\"02_international_voting_age\")\n",
        "\n",
        "Peturksbouipo:int = 16\n",
        "Stanlau:int = 25\n",
        "Mayengua:int = 48\n",
        "age:int = int(input(\"How old are you?\"))\n",
        "\n",
        "def main():\n",
        "  if age >= Peturksbouipo:\n",
        "    print(f\"Your age is {age}.You are eligible to vote in Peturksbouipo\")\n",
        "  else:\n",
        "    print(f\"Your age is {age}.You are not eligible to vote in Peturksbouipo\")\n",
        "\n",
        "if age >= Stanlau:\n",
        "  print(f\"Your age is {age}.You are eligible to vote in Stanlau\")\n",
        "else:\n",
        "  print(f\"Your age is {age}.You are not eligible to vote in Stanlau\")\n",
        "\n",
        "if age >= Mayengua:\n",
        "  print(f\"Your age is {age}.You are eligible to vote in Mayengua\")\n",
        "else:\n",
        "  print(f\"Your age is {age}.You are not eligible to vote in Mayengua\")\n",
        "\n",
        "if __name__ == \"__main__\":\n",
        "  main()\n"
      ],
      "metadata": {
        "colab": {
          "base_uri": "https://localhost:8080/"
        },
        "id": "R0p9whTucY6t",
        "outputId": "bd30e429-056f-4725-9ae0-b073d4e60f89"
      },
      "execution_count": 2,
      "outputs": [
        {
          "output_type": "stream",
          "name": "stdout",
          "text": [
            "02_international_voting_age\n",
            "How old are you?45\n",
            "Your age is 45.You are eligible to vote in Stanlau\n",
            "Your age is 45.You are not eligible to vote in Mayengua\n",
            "Your age is 45.You are eligible to vote in Peturksbouipo\n"
          ]
        }
      ]
    },
    {
      "cell_type": "markdown",
      "source": [
        "***03_leap_year***"
      ],
      "metadata": {
        "id": "B-riwJ4eCFgv"
      }
    },
    {
      "cell_type": "code",
      "source": [
        "print(\"03_leap_year\")\n",
        "\n",
        "def leap_year():\n",
        "  year = int(input(\"Enter a year: \"))\n",
        "\n",
        "  if year % 4 == 0:\n",
        "     if year % 100 == 0:\n",
        "      if year % 400 == 0:\n",
        "        print(f\"{year} is a leap year.\")\n",
        "      else:\n",
        "        print(f\"{year} is not a leap year.\")\n",
        "     else:\n",
        "      print(f\"{year} is not a leap year.\")\n",
        "  else:\n",
        "    print(f\"{year} is not a leap year.\")\n",
        "\n",
        "if __name__ == \"__main__\":\n",
        "  leap_year()\n",
        "\n",
        "\n"
      ],
      "metadata": {
        "colab": {
          "base_uri": "https://localhost:8080/"
        },
        "id": "lCnTTBgeCMGV",
        "outputId": "0cdc88f8-b8fd-410f-90cf-d6bb7756eec9"
      },
      "execution_count": 3,
      "outputs": [
        {
          "output_type": "stream",
          "name": "stdout",
          "text": [
            "03_leap_year\n",
            "Enter a year: 2026\n",
            "2026 is not a leap year.\n"
          ]
        }
      ]
    },
    {
      "cell_type": "markdown",
      "source": [
        "***04_tall_enough_to_ride***"
      ],
      "metadata": {
        "id": "rOkko_6dDHyh"
      }
    },
    {
      "cell_type": "code",
      "source": [
        "print(\"04_tall_enough_to_ride\")\n",
        "\n",
        "min_height:int = 50\n",
        "def main():\n",
        "  user:int = int(input(\"How tall are you?: \"))\n",
        "  if user >= min_height:\n",
        "    print(\"You are tall enough to ride\")\n",
        "  else:\n",
        "    print(\"You are not tall enough to ride. May be next year.\")\n",
        "\n",
        "if __name__ == \"__main__\":\n",
        "  main()\n"
      ],
      "metadata": {
        "colab": {
          "base_uri": "https://localhost:8080/"
        },
        "id": "jb2susTyDNzs",
        "outputId": "c9e0676a-ba83-4b70-d047-f53f85628cfc"
      },
      "execution_count": 4,
      "outputs": [
        {
          "output_type": "stream",
          "name": "stdout",
          "text": [
            "04_tall_enough_to_ride\n",
            "How tall are you?: 5\n",
            "You are not tall enough to ride. May be next year.\n"
          ]
        }
      ]
    },
    {
      "cell_type": "markdown",
      "source": [
        "***05_random_numbers***"
      ],
      "metadata": {
        "id": "JdTOyFMND2o7"
      }
    },
    {
      "cell_type": "code",
      "source": [
        "print(\"05_random_numbers\")\n",
        "\n",
        "import random\n",
        "\n",
        "def main():\n",
        "  for i in range(10):\n",
        "    num:list[int] = random.randint(1,100)\n",
        "    print(num)\n",
        "\n",
        "if __name__ == \"__main__\":\n",
        "  main()\n"
      ],
      "metadata": {
        "colab": {
          "base_uri": "https://localhost:8080/"
        },
        "id": "AAy8Lg1DD7yk",
        "outputId": "6c56c94e-84a7-4bb2-d603-d052615b287b"
      },
      "execution_count": 5,
      "outputs": [
        {
          "output_type": "stream",
          "name": "stdout",
          "text": [
            "05_random_numbers\n",
            "78\n",
            "78\n",
            "20\n",
            "48\n",
            "81\n",
            "81\n",
            "36\n",
            "60\n",
            "22\n",
            "31\n"
          ]
        }
      ]
    }
  ]
}