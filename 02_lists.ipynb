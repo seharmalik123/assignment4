{
  "nbformat": 4,
  "nbformat_minor": 0,
  "metadata": {
    "colab": {
      "provenance": []
    },
    "kernelspec": {
      "name": "python3",
      "display_name": "Python 3"
    },
    "language_info": {
      "name": "python"
    }
  },
  "cells": [
    {
      "cell_type": "markdown",
      "source": [
        "***01_add_many_number***"
      ],
      "metadata": {
        "id": "jkaPStwKTKzc"
      }
    },
    {
      "cell_type": "code",
      "source": [
        "print(\"01_add_many_number\")\n",
        "\n",
        "def add_numbers(numbers) ->int:\n",
        "  num:int = 0\n",
        "  for n in numbers:\n",
        "    num += n\n",
        "\n",
        "  return num\n",
        "\n",
        "def main():\n",
        "  numbers:list[int] = [1,2,3,4,5,6,7,8]\n",
        "  sum:int = add_numbers(numbers)\n",
        "  print(sum)\n",
        "\n",
        "if __name__ == \"__main__\":\n",
        "  main()\n"
      ],
      "metadata": {
        "colab": {
          "base_uri": "https://localhost:8080/"
        },
        "id": "hFIE24DtTNLu",
        "outputId": "8923ddca-e0b6-46ca-f66f-6a774de52c73"
      },
      "execution_count": null,
      "outputs": [
        {
          "output_type": "stream",
          "name": "stdout",
          "text": [
            "01_add_many_number\n",
            "36\n"
          ]
        }
      ]
    },
    {
      "cell_type": "markdown",
      "source": [
        "***02_double_list***"
      ],
      "metadata": {
        "id": "N1AZuQBZUBQr"
      }
    },
    {
      "cell_type": "code",
      "source": [
        "print(\"02_double_list\")\n",
        "\n",
        "def main():\n",
        "  numbers:list[int] = [1,2,3,4,5]\n",
        "  for i in range (len(numbers)):\n",
        "    index = numbers[i]\n",
        "    numbers[i] = index * 2\n",
        "  print(numbers)\n",
        "\n",
        "if __name__ == \"__main__\":\n",
        "  main()\n"
      ],
      "metadata": {
        "colab": {
          "base_uri": "https://localhost:8080/"
        },
        "id": "1mTqQTr1UDYn",
        "outputId": "8ad0330f-69d6-4cb0-f668-bc0f0d399e47"
      },
      "execution_count": null,
      "outputs": [
        {
          "output_type": "stream",
          "name": "stdout",
          "text": [
            "02_double_list\n",
            "[2, 4, 6, 8, 10]\n"
          ]
        }
      ]
    },
    {
      "cell_type": "markdown",
      "source": [
        "***04_flowing_with_data_structures***"
      ],
      "metadata": {
        "id": "6rViMJwvU5av"
      }
    },
    {
      "cell_type": "code",
      "source": [
        "print(\"04_flowing_with_data_structures\")\n",
        "\n",
        "def add_copies(my_list,data):\n",
        "  for i in range(3):\n",
        "    my_list.append(data)\n",
        "\n",
        "def main():\n",
        "  message = input(\"Enter a message to copy: \")\n",
        "  my_list = []\n",
        "  print(\"List before: \",my_list)\n",
        "  add_copies(my_list,message)\n",
        "  print(\"List after: \",my_list)\n",
        "\n",
        "if __name__ == \"__main__\":\n",
        "  main()\n"
      ],
      "metadata": {
        "colab": {
          "base_uri": "https://localhost:8080/"
        },
        "id": "uAYHV4FIU72L",
        "outputId": "59bbf8b0-02cb-4ca4-8e05-3382f452dab4"
      },
      "execution_count": null,
      "outputs": [
        {
          "output_type": "stream",
          "name": "stdout",
          "text": [
            "04_flowing_with_data_structures\n",
            "Enter a message to copy: hello python\n",
            "List before:  []\n",
            "List after:  ['hello python', 'hello python', 'hello python']\n"
          ]
        }
      ]
    },
    {
      "cell_type": "markdown",
      "source": [
        "***05_get_first_element***"
      ],
      "metadata": {
        "id": "KBlPSjBOWMau"
      }
    },
    {
      "cell_type": "code",
      "source": [
        "print(\"05_get_first_element\")\n",
        "\n",
        "def get_first_element(lst):\n",
        "  print(lst[0])\n",
        "\n",
        "def get_lst():\n",
        "  lst =[]\n",
        "  element:str = input(\"Enter an element to add to the list:\")\n",
        "  while element != \"\":\n",
        "    lst.append(element)\n",
        "    return lst\n",
        "\n",
        "def main():\n",
        "  lst = get_lst()\n",
        "  get_first_element(lst)\n",
        "\n",
        "if __name__==\"__main__\":\n",
        "  main()\n"
      ],
      "metadata": {
        "colab": {
          "base_uri": "https://localhost:8080/"
        },
        "id": "ckdJmUEuWOWF",
        "outputId": "c9fb30d6-ce0f-4a91-8676-ed8fb8f1f7de"
      },
      "execution_count": null,
      "outputs": [
        {
          "output_type": "stream",
          "name": "stdout",
          "text": [
            "05_get_first_element\n",
            "Enter an element to add to the list:abc\n",
            "abc\n"
          ]
        }
      ]
    },
    {
      "cell_type": "markdown",
      "source": [
        "***06_get_last_element***"
      ],
      "metadata": {
        "id": "kAaMBIV-XaBK"
      }
    },
    {
      "cell_type": "code",
      "source": [
        "print(\"06_get_last_element\")\n",
        "\n",
        "def get_last_element(lst):\n",
        "  print(lst[-1])\n",
        "\n",
        "def main():\n",
        "  lst = [1,2,3,4,5]\n",
        "  get_last_element(lst)\n",
        "\n",
        "if __name__==\"__main__\":\n",
        "  main()"
      ],
      "metadata": {
        "colab": {
          "base_uri": "https://localhost:8080/"
        },
        "id": "62d0E2reXd8Z",
        "outputId": "dcf1d21c-7fa2-409c-d345-32e804e2ea2b"
      },
      "execution_count": null,
      "outputs": [
        {
          "output_type": "stream",
          "name": "stdout",
          "text": [
            "06_get_last_element\n",
            "5\n"
          ]
        }
      ]
    },
    {
      "cell_type": "markdown",
      "source": [
        "***07_get_list***"
      ],
      "metadata": {
        "id": "y_UqYT-rX-q-"
      }
    },
    {
      "cell_type": "code",
      "source": [
        "print(\"07_get_list\")\n",
        "\n",
        "def main():\n",
        "  lst = []\n",
        "  val = input(\"Enter a value to add to the list: \")\n",
        "  while val:\n",
        "    lst.append(val)\n",
        "    val = input(\"Enter a value to add to the list: \")\n",
        "  print(\"Here is the list: \",lst)\n",
        "\n",
        "if __name__==\"__main__\":\n",
        "  main()\n"
      ],
      "metadata": {
        "colab": {
          "base_uri": "https://localhost:8080/"
        },
        "id": "0b8_f23qYBDI",
        "outputId": "93a11d99-4e76-4331-89bf-89d5c1b44551"
      },
      "execution_count": null,
      "outputs": [
        {
          "output_type": "stream",
          "name": "stdout",
          "text": [
            "07_get_list\n",
            "Enter a value to add to the list: 2\n",
            "Enter a value to add to the list: 5\n",
            "Enter a value to add to the list: 7\n",
            "Enter a value to add to the list: 9\n",
            "Enter a value to add to the list: 11\n",
            "Enter a value to add to the list: 13\n",
            "Enter a value to add to the list: \n",
            "Here is the list:  ['2', '5', '7', '9', '11', '13']\n"
          ]
        }
      ]
    },
    {
      "cell_type": "markdown",
      "source": [
        "***08_shorten***"
      ],
      "metadata": {
        "id": "Br_14AFNYpKo"
      }
    },
    {
      "cell_type": "code",
      "source": [
        "print(\"08_shorten\")\n",
        "\n",
        "MAX_LENGTH:int = 3\n",
        "def shorten(lst):\n",
        "  while len(lst) > MAX_LENGTH:\n",
        "    last_element = lst.pop()\n",
        "    print(last_element)\n",
        "\n",
        "def get_lst():\n",
        "  lst = []\n",
        "  element = input(\"Enter an element to add to the list: \")\n",
        "  while element != \"\":\n",
        "    lst.append(element)\n",
        "    element = input(\"Enter an element to add to the list: \")\n",
        "  return lst\n",
        "\n",
        "def main():\n",
        "  lst = get_lst()\n",
        "  shorten(lst)\n",
        "\n",
        "if __name__==\"__main__\":\n",
        "  main()"
      ],
      "metadata": {
        "colab": {
          "base_uri": "https://localhost:8080/"
        },
        "id": "BoaE-ec6YsVC",
        "outputId": "9f1e6ca0-fcdf-4d26-977c-037569975d67"
      },
      "execution_count": null,
      "outputs": [
        {
          "output_type": "stream",
          "name": "stdout",
          "text": [
            "08_shorten\n",
            "Enter an element to add to the list: ab\n",
            "Enter an element to add to the list: cd\n",
            "Enter an element to add to the list: ef\n",
            "Enter an element to add to the list: gh\n",
            "Enter an element to add to the list: ij\n",
            "Enter an element to add to the list: \n",
            "ij\n",
            "gh\n"
          ]
        }
      ]
    }
  ]
}