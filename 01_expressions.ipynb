{
  "nbformat": 4,
  "nbformat_minor": 0,
  "metadata": {
    "colab": {
      "provenance": []
    },
    "kernelspec": {
      "name": "python3",
      "display_name": "Python 3"
    },
    "language_info": {
      "name": "python"
    }
  },
  "cells": [
    {
      "cell_type": "markdown",
      "source": [
        "***01_dicesimulator***"
      ],
      "metadata": {
        "id": "Cp256P1vhWQF"
      }
    },
    {
      "cell_type": "code",
      "execution_count": null,
      "metadata": {
        "colab": {
          "base_uri": "https://localhost:8080/"
        },
        "id": "8Hmz7jCM-unW",
        "outputId": "4c1df205-f15b-4cac-8460-9154cec99fc4"
      },
      "outputs": [
        {
          "output_type": "stream",
          "name": "stdout",
          "text": [
            "01_dicesimulator\n",
            "dice1 in main() start as :10\n",
            "Total of two dices:5\n",
            "Total of two dices:4\n",
            "Total of two dices:7\n",
            "dice1 in main() is :10\n"
          ]
        }
      ],
      "source": [
        "import random\n",
        "print(\"01_dicesimulator\")\n",
        "\n",
        "def roll_dice():\n",
        "  die1:int = random.randint(1, 6)\n",
        "  die2:int = random.randint(1, 6)\n",
        "  total:int = die1 + die2\n",
        "  print(f\"Total of two dices:{total}\")\n",
        "\n",
        "def main():\n",
        "    die1:int = 10\n",
        "    print(\"die1 in main() start as :\"+ str(die1))\n",
        "    roll_dice()\n",
        "    roll_dice()\n",
        "    roll_dice()\n",
        "    print(\"die1 in main() is :\" + str(die1))\n",
        "\n",
        "if __name__ == \"__main__\":\n",
        "  main()"
      ]
    },
    {
      "cell_type": "markdown",
      "source": [
        "***02_e***=mc2"
      ],
      "metadata": {
        "id": "DC_Wkf3Dg_U3"
      }
    },
    {
      "cell_type": "code",
      "source": [
        "print(\"02_e=mc2\")\n",
        "\n",
        "def energy():\n",
        "  c:float = 299792458\n",
        "  m:float = float(input(\"Enter kilos of mass:\"))\n",
        "  print(\"e = m*c^2\")\n",
        "  print(\"Mass = \" +str(m) + \" kg\" )\n",
        "  print(\"c = \" + str(c) + \" m/s\")\n",
        "  print(\"e = \" + str(m * c ** 2) + \" joules\" )\n",
        "\n",
        "if __name__ == \"__main__\":\n",
        "  energy()\n"
      ],
      "metadata": {
        "colab": {
          "base_uri": "https://localhost:8080/"
        },
        "id": "gS9-PBMsgU6v",
        "outputId": "24b2c021-c1f4-4ba7-92bc-33e1f86c7718"
      },
      "execution_count": null,
      "outputs": [
        {
          "output_type": "stream",
          "name": "stdout",
          "text": [
            "02_e=mc2\n",
            "Enter kilos of mass:130\n",
            "e = m*c^2\n",
            "Mass = 130.0 kg\n",
            "c = 299792458 m/s\n",
            "e = 1.1683817323578628e+19 joules\n"
          ]
        }
      ]
    },
    {
      "cell_type": "markdown",
      "source": [
        "***03_feet_to_inches***\n",
        "\n",
        "\n",
        "\n"
      ],
      "metadata": {
        "id": "odkgOeYtgckH"
      }
    },
    {
      "cell_type": "code",
      "source": [
        "print(\"03_feet_to_inches.\")\n",
        "\n",
        "inch: int = 12\n",
        "\n",
        "def foot():\n",
        "  feet:int = int(input(\"Enter feet and i will convert it into inches.\"))\n",
        "  print(f\"There are {inch * feet} inches in {feet} feet.\")\n",
        "\n",
        "if __name__ == \"__main__\":\n",
        "  foot()\n",
        "\n",
        "\n"
      ],
      "metadata": {
        "colab": {
          "base_uri": "https://localhost:8080/"
        },
        "id": "__UCRijOg3pX",
        "outputId": "3a687083-67e7-47cc-d8fb-73231169bce5"
      },
      "execution_count": null,
      "outputs": [
        {
          "output_type": "stream",
          "name": "stdout",
          "text": [
            "03_feet_to_inches.\n",
            "Enter feet and i will convert it into inches.20\n",
            "There are 240 inches in 20 feet.\n"
          ]
        }
      ]
    },
    {
      "cell_type": "markdown",
      "source": [
        "***04_pythagorean_theorem***"
      ],
      "metadata": {
        "id": "I59hb19GkrVq"
      }
    },
    {
      "cell_type": "code",
      "source": [
        "import math\n",
        "print(\"04_pythagorean_theorem.\")\n",
        "\n",
        "def triangle():\n",
        "  ab:float = float(input(\"Enter the length of the side ab.\"))\n",
        "  ac:float = float(input(\"Enter the length of the side ac.\"))\n",
        "  bc:float = math.sqrt(ab**2 + ac**2)\n",
        "  print(f\"The length of bc (the hypothenuse is : {bc})\")\n",
        "\n",
        "\n",
        "if __name__ == \"__main__\":\n",
        "  triangle()\n"
      ],
      "metadata": {
        "colab": {
          "base_uri": "https://localhost:8080/"
        },
        "id": "73Oe3QSjk6GM",
        "outputId": "7295c49d-34f7-4c50-d960-e9d2f3d76924"
      },
      "execution_count": null,
      "outputs": [
        {
          "output_type": "stream",
          "name": "stdout",
          "text": [
            "04_pythagorean_theorem.\n",
            "Enter the length of the side ab.4\n",
            "Enter the length of the side ac.6\n",
            "The length of bc (the hypothenuse is : 7.211102550927978)\n"
          ]
        }
      ]
    },
    {
      "cell_type": "markdown",
      "source": [
        "***05_remainder_division***."
      ],
      "metadata": {
        "id": "ImmoyRpKmv33"
      }
    },
    {
      "cell_type": "code",
      "source": [
        "print(\"05_remainder_division.\")\n",
        "\n",
        "def reminder():\n",
        "  num1:int = int(input(\"Enter an integer to be divided: \"))\n",
        "  num2:int = int(input(\"Enter an integer to divide by: \"))\n",
        "  quotient:int = num1 // num2\n",
        "  remainder:int = num1 % num2\n",
        "  print(f\"The result of following division is {quotient} with the reminder of {remainder}\")\n",
        "\n",
        "if __name__ == \"__main__\":\n",
        "  reminder()"
      ],
      "metadata": {
        "colab": {
          "base_uri": "https://localhost:8080/"
        },
        "id": "jpfRre1Pm3JJ",
        "outputId": "17dd8b39-3883-46c0-b05c-dea8bab01844"
      },
      "execution_count": null,
      "outputs": [
        {
          "output_type": "stream",
          "name": "stdout",
          "text": [
            "05_remainder_division.\n",
            "Enter an integer to be divided: 50\n",
            "Enter an integer to divide by: 5\n",
            "The result of following division is 10 with the reminder of 0\n"
          ]
        }
      ]
    },
    {
      "cell_type": "markdown",
      "source": [
        "***06_rolldice***"
      ],
      "metadata": {
        "id": "69m4xpXaoQxt"
      }
    },
    {
      "cell_type": "code",
      "source": [
        "import random\n",
        "print(\"06_rolldice\")\n",
        "\n",
        "def dice():\n",
        "  die1:int = random.randint(1, 6)\n",
        "  die2:int = random.randint(1, 6)\n",
        "  total:int = int(die1 + die2)\n",
        "  print(\"First die: \" + str(die1))\n",
        "  print(\"Second die: \" + str(die2))\n",
        "  print(f\"Total of two dices: {total}\")\n",
        "\n",
        "if __name__ ==\"__main__\":\n",
        "  dice()"
      ],
      "metadata": {
        "colab": {
          "base_uri": "https://localhost:8080/"
        },
        "id": "nh-bLDE4obcY",
        "outputId": "bb4ce300-ed9b-40d1-8c48-a102dacd641b"
      },
      "execution_count": null,
      "outputs": [
        {
          "output_type": "stream",
          "name": "stdout",
          "text": [
            "06_rolldice\n",
            "First die: 4\n",
            "Second die: 3\n",
            "Total of two dices: 7\n"
          ]
        }
      ]
    },
    {
      "cell_type": "markdown",
      "source": [
        "***06_seconds_in_year***"
      ],
      "metadata": {
        "id": "8NnaLPyErAtm"
      }
    },
    {
      "cell_type": "code",
      "source": [
        "print(\"06_seconds_in_year\")\n",
        "\n",
        "days_in_year:int = 365\n",
        "hours_per_day:int = 24\n",
        "minutes_per_hour:int = 60\n",
        "seconds_per_minute:int = 60\n",
        "\n",
        "def seconds():\n",
        "  print(f\"There are {days_in_year * hours_per_day * minutes_per_hour * seconds_per_minute} seconds in a year.\")\n",
        "\n",
        "if __name__==\"__main__\":\n",
        "  seconds()"
      ],
      "metadata": {
        "colab": {
          "base_uri": "https://localhost:8080/"
        },
        "id": "91iKlCcwrNpz",
        "outputId": "ecf734d4-11ae-4a05-dfa1-02bf87990df0"
      },
      "execution_count": null,
      "outputs": [
        {
          "output_type": "stream",
          "name": "stdout",
          "text": [
            "06_seconds_in_year\n",
            "There are 31536000 seconds in a year.\n"
          ]
        }
      ]
    },
    {
      "cell_type": "markdown",
      "source": [
        "***07_tiny_mad_lib***"
      ],
      "metadata": {
        "id": "Ch1czysHsLIj"
      }
    },
    {
      "cell_type": "code",
      "source": [
        "print(\"07_tiny_mad_lib\")\n",
        "\n",
        "def mad_lib():\n",
        "  noun:str = str(input(\"Enter a noun: \"))\n",
        "  adjective:str = str(input(\"Enter an adjective: \"))\n",
        "  verb:str = str(input(\"Enter a verb: \"))\n",
        "  print(f\"Do you {verb} your {adjective} {noun}?\")\n",
        "\n",
        "if __name__ == \"__main__\":\n",
        "  mad_lib()\n",
        "\n"
      ],
      "metadata": {
        "colab": {
          "base_uri": "https://localhost:8080/"
        },
        "id": "49_l-S4usOvK",
        "outputId": "94f248b6-85dd-4d81-b12b-eb4ca1c6fe43"
      },
      "execution_count": null,
      "outputs": [
        {
          "output_type": "stream",
          "name": "stdout",
          "text": [
            "07_tiny_mad_lib\n",
            "Enter a noun: dog\n",
            "Enter an adjective: Cute\n",
            "Enter a verb: eat\n",
            "Do you eat your Cute dog?\n"
          ]
        }
      ]
    }
  ]
}