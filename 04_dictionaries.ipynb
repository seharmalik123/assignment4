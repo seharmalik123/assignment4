{
  "nbformat": 4,
  "nbformat_minor": 0,
  "metadata": {
    "colab": {
      "provenance": [],
      "authorship_tag": "ABX9TyNnnM1WaC6ojisEkKJpgh31",
      "include_colab_link": true
    },
    "kernelspec": {
      "name": "python3",
      "display_name": "Python 3"
    },
    "language_info": {
      "name": "python"
    }
  },
  "cells": [
    {
      "cell_type": "markdown",
      "metadata": {
        "id": "view-in-github",
        "colab_type": "text"
      },
      "source": [
        "<a href=\"https://colab.research.google.com/github/seharmalik123/assignment4/blob/main/04_dictionaries.ipynb\" target=\"_parent\"><img src=\"https://colab.research.google.com/assets/colab-badge.svg\" alt=\"Open In Colab\"/></a>"
      ]
    },
    {
      "cell_type": "markdown",
      "source": [
        "***00_count_nums***"
      ],
      "metadata": {
        "id": "9MP79n9wIA2s"
      }
    },
    {
      "cell_type": "code",
      "source": [
        "print(\"00_count_nums\")\n",
        "\n",
        "def count_numbers():\n",
        "  count_dict = {}\n",
        "\n",
        "  while True:\n",
        "    num = input(\"Enter a number(or 'Exit' to quit): \")\n",
        "    if num.lower() == 'Exit':\n",
        "      break\n",
        "    if num.isdigit():\n",
        "      num = int(num)\n",
        "      count_dict[num] = count_dict.get(num, 0) + 1\n",
        "      print(count_dict)\n",
        "    else:\n",
        "      print(\"Invalid input. Please enter a number or 'Exit'.\")\n",
        "      return (count_dict)\n",
        "\n",
        "def display_counts(count_dict):\n",
        "  print(\"\\n Number Counts:\")\n",
        "  for key, value in count_dict.items():\n",
        "    print(f\"{key} appears {value} times\")\n",
        "\n",
        "if __name__ == \"__main__\":\n",
        "  count = count_numbers()\n",
        "  display_counts(count)\n"
      ],
      "metadata": {
        "colab": {
          "base_uri": "https://localhost:8080/"
        },
        "id": "hzDY7VVmIW0B",
        "outputId": "b876acee-95c1-4213-8570-0a8935d47620"
      },
      "execution_count": 2,
      "outputs": [
        {
          "output_type": "stream",
          "name": "stdout",
          "text": [
            "00_count_nums\n",
            "Enter a number(or 'Exit' to quit): 3\n",
            "{3: 1}\n",
            "Enter a number(or 'Exit' to quit): 8\n",
            "{3: 1, 8: 1}\n",
            "Enter a number(or 'Exit' to quit): 9\n",
            "{3: 1, 8: 1, 9: 1}\n",
            "Enter a number(or 'Exit' to quit): 7\n",
            "{3: 1, 8: 1, 9: 1, 7: 1}\n",
            "Enter a number(or 'Exit' to quit): 3\n",
            "{3: 2, 8: 1, 9: 1, 7: 1}\n",
            "Enter a number(or 'Exit' to quit): 7\n",
            "{3: 2, 8: 1, 9: 1, 7: 2}\n",
            "Enter a number(or 'Exit' to quit): 8\n",
            "{3: 2, 8: 2, 9: 1, 7: 2}\n",
            "Enter a number(or 'Exit' to quit): 9\n",
            "{3: 2, 8: 2, 9: 2, 7: 2}\n",
            "Enter a number(or 'Exit' to quit): 5\n",
            "{3: 2, 8: 2, 9: 2, 7: 2, 5: 1}\n",
            "Enter a number(or 'Exit' to quit): exit\n",
            "Invalid input. Please enter a number or 'Exit'.\n",
            "\n",
            " Number Counts:\n",
            "3 appears 2 times\n",
            "8 appears 2 times\n",
            "9 appears 2 times\n",
            "7 appears 2 times\n",
            "5 appears 1 times\n"
          ]
        }
      ]
    },
    {
      "cell_type": "markdown",
      "source": [
        "***01_phonebook***"
      ],
      "metadata": {
        "id": "AdxccRp0Knv2"
      }
    },
    {
      "cell_type": "code",
      "source": [
        "print(\"01_phonebook\")\n",
        "\n",
        "def add_contact(phonebook):\n",
        "  name = input(\"Enter contact's name: \")\n",
        "  number = input(\"Enter contact's number: \")\n",
        "\n",
        "  if name in phonebook:\n",
        "    print(f\"{name} already exists in the phonebook.\")\n",
        "  else:\n",
        "    phonebook[name] = number\n",
        "    print(f\"{name} has been added to the phonebook.\")\n",
        "\n",
        "def search_contact(phonebook):\n",
        "  name = input(\"Enter contact's name to search: \")\n",
        "\n",
        "  if name in phonebook:\n",
        "    print(f\"{name}:{phonebook[name]}\")\n",
        "  else:\n",
        "    print(f\"{name} not found in the phonebook.\")\n",
        "\n",
        "def delete_contact(phonebook):\n",
        "  name = input(\"Enter contact's name to delete: \")\n",
        "  if name in phonebook:\n",
        "    del phonebook[name]\n",
        "    print(f\"{name} deleted from the phonebook. \")\n",
        "  else:\n",
        "    print(f\"{name} not found in phonebook. \")\n",
        "\n",
        "def display_contact(phonebook):\n",
        "  if phonebook:\n",
        "    print(\"\\n Phonebook Contacts list \")\n",
        "    for name, number in phonebook.items():\n",
        "      print(f\"{name}: {number}\")\n",
        "  else:\n",
        "    print(\"Phonebook is empty.\")\n",
        "\n",
        "if __name__ == \"__main__\":\n",
        "  phonebook = {}\n",
        "\n",
        "  while True:\n",
        "    print(\"\\n Phonebook Menu:\")\n",
        "    print(\"1. Add Contact\")\n",
        "    print(\"2. Search Contact\")\n",
        "    print(\"3. Delete Contact\")\n",
        "    print(\"4. Display Contact\")\n",
        "    print(\"5. Exit\")\n",
        "\n",
        "    choice = input(\"Enter your choice (1-5): \")\n",
        "\n",
        "    if choice == '1':\n",
        "      add_contact(phonebook)\n",
        "    elif choice == '2':\n",
        "      search_contact(phonebook)\n",
        "    elif choice == '3':\n",
        "      delete_contact(phonebook)\n",
        "    elif choice == '4':\n",
        "      display_contact(phonebook)\n",
        "    elif choice == '5':\n",
        "      print(\"Exiting Phonebook. Goodbye!\")\n",
        "      break\n",
        "    else:\n",
        "      print(\"Invalid choice. Please select a valid option (1-5).\")"
      ],
      "metadata": {
        "colab": {
          "base_uri": "https://localhost:8080/"
        },
        "id": "4vnDJqUfKyVA",
        "outputId": "6521cb04-6fc2-497b-d1d3-e88420edca29"
      },
      "execution_count": 3,
      "outputs": [
        {
          "output_type": "stream",
          "name": "stdout",
          "text": [
            "01_phonebook\n",
            "\n",
            " Phonebook Menu:\n",
            "1. Add Contact\n",
            "2. Search Contact\n",
            "3. Delete Contact\n",
            "4. Display Contact\n",
            "5. Exit\n",
            "Enter your choice (1-5): 1\n",
            "Enter contact's name: sehar\n",
            "Enter contact's number: 023212345644554\n",
            "sehar has been added to the phonebook.\n",
            "\n",
            " Phonebook Menu:\n",
            "1. Add Contact\n",
            "2. Search Contact\n",
            "3. Delete Contact\n",
            "4. Display Contact\n",
            "5. Exit\n",
            "Enter your choice (1-5): 2\n",
            "Enter contact's name to search: malik\n",
            "malik not found in the phonebook.\n",
            "\n",
            " Phonebook Menu:\n",
            "1. Add Contact\n",
            "2. Search Contact\n",
            "3. Delete Contact\n",
            "4. Display Contact\n",
            "5. Exit\n",
            "Enter your choice (1-5): 02134535753t7\n",
            "Invalid choice. Please select a valid option (1-5).\n",
            "\n",
            " Phonebook Menu:\n",
            "1. Add Contact\n",
            "2. Search Contact\n",
            "3. Delete Contact\n",
            "4. Display Contact\n",
            "5. Exit\n",
            "Enter your choice (1-5): 3\n",
            "Enter contact's name to delete: malik\n",
            "malik not found in phonebook. \n",
            "\n",
            " Phonebook Menu:\n",
            "1. Add Contact\n",
            "2. Search Contact\n",
            "3. Delete Contact\n",
            "4. Display Contact\n",
            "5. Exit\n",
            "Enter your choice (1-5): 4\n",
            "\n",
            " Phonebook Contacts list \n",
            "sehar: 023212345644554\n",
            "\n",
            " Phonebook Menu:\n",
            "1. Add Contact\n",
            "2. Search Contact\n",
            "3. Delete Contact\n",
            "4. Display Contact\n",
            "5. Exit\n",
            "Enter your choice (1-5): sehar\n",
            "Invalid choice. Please select a valid option (1-5).\n",
            "\n",
            " Phonebook Menu:\n",
            "1. Add Contact\n",
            "2. Search Contact\n",
            "3. Delete Contact\n",
            "4. Display Contact\n",
            "5. Exit\n",
            "Enter your choice (1-5): 5\n",
            "Exiting Phonebook. Goodbye!\n"
          ]
        }
      ]
    },
    {
      "cell_type": "markdown",
      "source": [
        "***02_pop_up_shop***"
      ],
      "metadata": {
        "id": "rNjCEMaDO0oN"
      }
    },
    {
      "cell_type": "code",
      "source": [
        "print(\"02_pop_up_shop\")\n",
        "\n",
        "def calculate_total_cost():\n",
        "  fruits_price = {\n",
        "      \"apple\": 5.0,\n",
        "      \"mango\" : 15.0,\n",
        "      \"kiwi\" : 8.0,\n",
        "      \"pear\" : 12.0,\n",
        "      \"banana\" : 10.0,\n",
        "      \"orange\" : 10.0\n",
        "  }\n",
        "\n",
        "  total_cost = 0\n",
        "\n",
        "  for fruit,price in fruits_price.items():\n",
        "    while True:\n",
        "      try:\n",
        "        quantity = int(input(f\"How many {fruit} do you want?: \"))\n",
        "        if quantity < 0:\n",
        "          print(\"Invalid input. Please enter a non-negative number. \")\n",
        "          continue\n",
        "        total_cost += price * quantity\n",
        "        break\n",
        "      except ValueError:\n",
        "        print(\"Invalid input. Please enter a valid number.\")\n",
        "\n",
        "    print(f\"Your total cost is: ${total_cost:.2f}\")\n",
        "\n",
        "if __name__ == \"__main__\":\n",
        "  calculate_total_cost()"
      ],
      "metadata": {
        "colab": {
          "base_uri": "https://localhost:8080/"
        },
        "id": "4QNzRY5sO8BN",
        "outputId": "5ea93316-dcb6-44b6-d26a-7a8f99ca0000"
      },
      "execution_count": 5,
      "outputs": [
        {
          "output_type": "stream",
          "name": "stdout",
          "text": [
            "02_pop_up_shop\n",
            "How many apple do you want?: 2\n",
            "Your total cost is: $10.00\n",
            "How many mango do you want?: 4\n",
            "Your total cost is: $70.00\n",
            "How many kiwi do you want?: 2\n",
            "Your total cost is: $86.00\n",
            "How many pear do you want?: 5\n",
            "Your total cost is: $146.00\n",
            "How many banana do you want?: 12\n",
            "Your total cost is: $266.00\n",
            "How many orange do you want?: 12\n",
            "Your total cost is: $386.00\n"
          ]
        }
      ]
    },
    {
      "cell_type": "markdown",
      "source": [
        "***03_powerful_passwords***"
      ],
      "metadata": {
        "id": "sRIiYN6kRz2l"
      }
    },
    {
      "cell_type": "code",
      "source": [
        "import hashlib\n",
        "\n",
        "print(\"03_powerful_passwords\")\n",
        "\n",
        "def hash_password(password):\n",
        "  return hashlib.sha256(password.encode()).hexdigest()\n",
        "\n",
        "stored_logins = {\n",
        "    \"user@example.com\":hash_password(\"password123\"),\n",
        "    \"admin@example.com\":hash_password(\"adminpass\")\n",
        "}\n",
        "\n",
        "def login(email,password):\n",
        "  if email in stored_logins:\n",
        "    return stored_logins[email] == hash_password(password)\n",
        "  return False\n",
        "\n",
        "if __name__ == \"__main__\":\n",
        "  email = input(\"Enter your email: \")\n",
        "  password = input(\"Enter your password: \")\n",
        "\n",
        "  if login(email,password):\n",
        "    print(\"Login successful!\")\n",
        "  else:\n",
        "    print(\"Invalid email or password.\")\n",
        "    print(\"Welcome to the Login System!\")\n",
        "\n"
      ],
      "metadata": {
        "colab": {
          "base_uri": "https://localhost:8080/"
        },
        "id": "n960-hAVR2Co",
        "outputId": "999a159b-552e-49d4-d0c6-2f6c50fa677c"
      },
      "execution_count": 8,
      "outputs": [
        {
          "output_type": "stream",
          "name": "stdout",
          "text": [
            "03_powerful_passwords\n",
            "Enter your email: user@example.com\n",
            "Enter your password: password123\n",
            "Login successful!\n"
          ]
        }
      ]
    }
  ]
}