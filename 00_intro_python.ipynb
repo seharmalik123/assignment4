{
  "nbformat": 4,
  "nbformat_minor": 0,
  "metadata": {
    "colab": {
      "provenance": [],
      "history_visible": true
    },
    "kernelspec": {
      "name": "python3",
      "display_name": "Python 3"
    },
    "language_info": {
      "name": "python"
    }
  },
  "cells": [
    {
      "cell_type": "markdown",
      "source": [
        "***01_add_two_numbers.***"
      ],
      "metadata": {
        "id": "Z1unC2R8nU99"
      }
    },
    {
      "cell_type": "code",
      "source": [
        "print(\"01_add_two_numbers.\")\n",
        "\n",
        "def add():\n",
        "  print(\"This application for add two numbers\")\n",
        "  first_number = int(input(\"Enter your first number. \"))\n",
        "  second_number = int(input(\"Enter your second number.\"))\n",
        "  total = int(first_number + second_number)\n",
        "  print(f\"The total sum of {first_number} and {second_number} is {total}.\")\n",
        "\n",
        "if __name__ == \"__main__\":\n",
        "  add()"
      ],
      "metadata": {
        "colab": {
          "base_uri": "https://localhost:8080/"
        },
        "id": "dzehPXNGmgil",
        "outputId": "23f0901c-ecdd-4205-fb60-71e8682d5728"
      },
      "execution_count": null,
      "outputs": [
        {
          "output_type": "stream",
          "name": "stdout",
          "text": [
            "01_add_two_numbers.\n",
            "This application for add two numbers\n",
            "Enter your first number. 5\n",
            "Enter your second number.5\n",
            "The total sum of 5 and 5 is 10.\n"
          ]
        }
      ]
    },
    {
      "cell_type": "markdown",
      "source": [
        "***02_agreement_bot***"
      ],
      "metadata": {
        "id": "eHiNV0YhGZnQ"
      }
    },
    {
      "cell_type": "code",
      "source": [
        "print(\"02_agreement_bot\")\n",
        "\n",
        "def bot():\n",
        "  animal = str(input(\"What their favourite animal is? \"))\n",
        "  print(f\"My favourite animal is also {animal}.\")\n",
        "\n",
        "if __name__ == \"__main__\":\n",
        "  bot()"
      ],
      "metadata": {
        "colab": {
          "base_uri": "https://localhost:8080/"
        },
        "id": "3N0MfkNfGc1E",
        "outputId": "64cc88cb-87b1-4e02-fb75-85a65ac200e2"
      },
      "execution_count": null,
      "outputs": [
        {
          "output_type": "stream",
          "name": "stdout",
          "text": [
            "02_agreement_bot\n",
            "What their favourite animal is? cat\n",
            "My favourite animal is also cat.\n"
          ]
        }
      ]
    },
    {
      "cell_type": "markdown",
      "source": [
        "***03_fahrenheit_to_celsius***"
      ],
      "metadata": {
        "id": "daJnWRO0MNMw"
      }
    },
    {
      "cell_type": "code",
      "source": [
        "print(\"03_fahrenheit_to_celsius\")\n",
        "\n",
        "def temp():\n",
        "  print(\"This code for converting fahrenheit to celsius\")\n",
        "  fahrenheit_degree = float(input(\"Enter your fahrenheit degree. \"))\n",
        "  celsius_degree = (fahrenheit_degree - 32) * 5.0/9.0\n",
        "  print(f\"Temperature {fahrenheit_degree} F = {celsius_degree} C\")\n",
        "\n",
        "if __name__ == \"__main__\":\n",
        "  temp()"
      ],
      "metadata": {
        "colab": {
          "base_uri": "https://localhost:8080/"
        },
        "id": "ZurqSyIpMSJw",
        "outputId": "0d8707c3-01ae-4d51-d62e-a5da1a9e4fc4"
      },
      "execution_count": null,
      "outputs": [
        {
          "output_type": "stream",
          "name": "stdout",
          "text": [
            "03_fahrenheit_to_celsius\n",
            "This code for converting fahrenheit to celsius\n",
            "Enter your fahrenheit degree. 34\n",
            "Temperature 34.0 F = 1.1111111111111112 C\n"
          ]
        }
      ]
    },
    {
      "cell_type": "markdown",
      "source": [
        "***04_how_old_are_they***"
      ],
      "metadata": {
        "id": "_0r4XIwHNQKO"
      }
    },
    {
      "cell_type": "code",
      "source": [
        "print(\"04_how_old_are_they\")\n",
        "\n",
        "def add_ages():\n",
        "  anthon:int = 21\n",
        "  beth:int = anthon + 6\n",
        "  chen:int = beth + 20\n",
        "  drew:int = chen + anthon\n",
        "  ethan:int = chen\n",
        "\n",
        "  print(\"Anthon is \" + str(anthon))\n",
        "  print(\"Beth is \" + str(beth))\n",
        "  print(\"Chen is \" + str(chen))\n",
        "  print(\"Drew is \" + str(drew))\n",
        "  print(\"Ethan is \" + str(ethan))\n",
        "\n",
        "if __name__ == \"__main__\":\n",
        "  add_ages()"
      ],
      "metadata": {
        "colab": {
          "base_uri": "https://localhost:8080/"
        },
        "id": "D4lPiWSxNVGh",
        "outputId": "0ee79214-df95-4eaa-c073-b4a20992db67"
      },
      "execution_count": null,
      "outputs": [
        {
          "output_type": "stream",
          "name": "stdout",
          "text": [
            "04_how_old_are_they\n",
            "Anthon is 21\n",
            "Beth is 27\n",
            "Chen is 47\n",
            "Drew is 68\n",
            "Ethan is 47\n"
          ]
        }
      ]
    },
    {
      "cell_type": "markdown",
      "source": [
        "***05_triangle_perimeter.***"
      ],
      "metadata": {
        "id": "impi75_eOkKe"
      }
    },
    {
      "cell_type": "code",
      "source": [
        "print(\"05_triangle_perimeter.\")\n",
        "\n",
        "def triangle():\n",
        "  print(\"This code is about perimeter of triangle.\")\n",
        "  side1:float = float(input(\"Enter your first side no of triangle.\"))\n",
        "  side2:float = float(input(\"Enter your second side no of triangle.\"))\n",
        "  side3:float = float(input(\"Enter your third side no of triangle.\"))\n",
        "  total:float = float(side1 + side2 + side3)\n",
        "  print(f\"The perimeter of the triangle is {total}\")\n",
        "\n",
        "if __name__ == \"__main__\":\n",
        "  triangle()\n",
        "\n"
      ],
      "metadata": {
        "colab": {
          "base_uri": "https://localhost:8080/"
        },
        "id": "1x22BpUcOoUC",
        "outputId": "c86ecee6-8e1b-49c7-db56-7a087866714c"
      },
      "execution_count": null,
      "outputs": [
        {
          "output_type": "stream",
          "name": "stdout",
          "text": [
            "05_triangle_perimeter.\n",
            "This code is about perimeter of triangle.\n",
            "Enter your first side no od triangle.5\n",
            "Enter your second side no of triangle.4\n",
            "Enter your third side no of triangle.3\n",
            "The perimeter of the triangle is 12.0\n"
          ]
        }
      ]
    },
    {
      "cell_type": "markdown",
      "source": [
        "***06_square_number***"
      ],
      "metadata": {
        "id": "gSr6OfxDP9_Q"
      }
    },
    {
      "cell_type": "code",
      "source": [
        "print(\"06_square_number\")\n",
        "\n",
        "def square():\n",
        "  print(\"This code is about square of given number\")\n",
        "  num1:int = int(input(\"Enter any number and i will give you a square value\"))\n",
        "  print(f\"The square of {num1} is {num1 ** 2}\")\n",
        "\n",
        "if __name__ == \"__main__\":\n",
        "  square()"
      ],
      "metadata": {
        "colab": {
          "base_uri": "https://localhost:8080/"
        },
        "id": "5dAqOOT4QCL-",
        "outputId": "4025b631-eca8-4118-ef87-18e39863f60e"
      },
      "execution_count": null,
      "outputs": [
        {
          "output_type": "stream",
          "name": "stdout",
          "text": [
            "06_square_number\n",
            "This code is about square of given number\n",
            "Enter any number and i will give you a square value9\n",
            "The square of 9 is 81\n"
          ]
        }
      ]
    }
  ]
}